{
 "cells": [
  {
   "cell_type": "markdown",
   "metadata": {},
   "source": [
    "# Text summarizer\n",
    "Here I try around with Pre-training with Extracted Gap-sentences for Abstractive Summarization\n"
   ]
  },
  {
   "cell_type": "code",
   "execution_count": 1,
   "metadata": {},
   "outputs": [
    {
     "name": "stderr",
     "output_type": "stream",
     "text": [
      "/home/jovyan/Text-summarizer/.conda/lib/python3.10/site-packages/tqdm/auto.py:21: TqdmWarning: IProgress not found. Please update jupyter and ipywidgets. See https://ipywidgets.readthedocs.io/en/stable/user_install.html\n",
      "  from .autonotebook import tqdm as notebook_tqdm\n",
      "/home/jovyan/Text-summarizer/.conda/lib/python3.10/site-packages/transformers/utils/hub.py:124: FutureWarning: Using `TRANSFORMERS_CACHE` is deprecated and will be removed in v5 of Transformers. Use `HF_HOME` instead.\n",
      "  warnings.warn(\n"
     ]
    },
    {
     "name": "stdout",
     "output_type": "stream",
     "text": [
      "Requirement already satisfied: sentencepiece in /home/jovyan/Text-summarizer/.conda/lib/python3.10/site-packages (0.2.0)\n"
     ]
    }
   ],
   "source": [
    "import torch\n",
    "from transformers import PegasusTokenizer, PegasusForConditionalGeneration, Seq2SeqTrainer, Seq2SeqTrainingArguments, DataCollatorForSeq2Seq\n",
    "from datasets import load_dataset, DatasetDict\n",
    "!pip install -q rouge_score\n",
    "!pip install -q tqdm\n",
    "!pip install .q sentencepiece\n",
    "\n",
    "from rouge_score import rouge_scorer\n",
    "import numpy as np\n",
    "from tqdm import tqdm\n"
   ]
  },
  {
   "cell_type": "markdown",
   "metadata": {},
   "source": [
    "### Global variables"
   ]
  },
  {
   "cell_type": "code",
   "execution_count": 2,
   "metadata": {},
   "outputs": [],
   "source": [
    "# Load the dataset\n",
    "train, test = load_dataset(\n",
    "    \"wikihow\",\n",
    "    \"sep\",\n",
    "    data_dir=\"../Dataset/\",\n",
    "    split=[\"train\", \"test\"],\n",
    "    trust_remote_code=True,\n",
    ")\n",
    "dataset = DatasetDict({\"train\": train, \"test\": test})\n",
    "dataset = dataset.select_columns([\"text\", \"headline\"])"
   ]
  },
  {
   "cell_type": "code",
   "execution_count": 3,
   "metadata": {},
   "outputs": [
    {
     "name": "stderr",
     "output_type": "stream",
     "text": [
      "Some weights of PegasusForConditionalGeneration were not initialized from the model checkpoint at google/pegasus-cnn_dailymail and are newly initialized: ['model.decoder.embed_positions.weight', 'model.encoder.embed_positions.weight']\n",
      "You should probably TRAIN this model on a down-stream task to be able to use it for predictions and inference.\n"
     ]
    }
   ],
   "source": [
    "# Define model and tokenizer\n",
    "model_name = \"google/pegasus-cnn_dailymail\"\n",
    "tokenizer = PegasusTokenizer.from_pretrained(model_name)\n",
    "model = PegasusForConditionalGeneration.from_pretrained(model_name)\n",
    "\n",
    "\n",
    "\n",
    "# Preprocessing function\n",
    "prefix = \"summarize: \"\n",
    "max_input_length = 512\n",
    "max_target_length = 64"
   ]
  },
  {
   "cell_type": "markdown",
   "metadata": {},
   "source": [
    "### Preprocessing"
   ]
  },
  {
   "cell_type": "code",
   "execution_count": 4,
   "metadata": {},
   "outputs": [
    {
     "name": "stderr",
     "output_type": "stream",
     "text": [
      "Map: 100%|██████████| 1060732/1060732 [05:12<00:00, 3399.47 examples/s]\n",
      "Map: 100%|██████████| 37800/37800 [00:11<00:00, 3308.84 examples/s]\n"
     ]
    }
   ],
   "source": [
    "def preprocess_function(dataset):\n",
    "    inputs = [prefix + text for text in dataset[\"text\"]]\n",
    "    model_inputs = tokenizer(inputs, max_length=max_input_length, truncation=True, padding=True)\n",
    "    targets = dataset[\"headline\"]\n",
    "    labels = tokenizer(text_target=targets, max_length=max_target_length, truncation=True, padding=True)\n",
    "    model_inputs[\"labels\"] = labels[\"input_ids\"]\n",
    "    return model_inputs\n",
    "\n",
    "# Apply preprocessing\n",
    "tokenized_datasets = dataset.map(preprocess_function, batched=True)\n",
    "\n",
    "# Split the data\n",
    "train_test_split = tokenized_datasets[\"train\"].train_test_split(test_size=0.1)\n",
    "tokenized_datasets[\"train\"] = train_test_split[\"train\"]\n",
    "tokenized_datasets[\"validation\"] = train_test_split[\"test\"]\n",
    "\n"
   ]
  },
  {
   "cell_type": "markdown",
   "metadata": {},
   "source": [
    "### Evaluation"
   ]
  },
  {
   "cell_type": "code",
   "execution_count": 7,
   "metadata": {},
   "outputs": [
    {
     "name": "stderr",
     "output_type": "stream",
     "text": [
      "Generating summaries:   0%|          | 0/1182 [00:00<?, ?it/s]"
     ]
    },
    {
     "name": "stderr",
     "output_type": "stream",
     "text": [
      "Generating summaries: 100%|██████████| 1182/1182 [40:17<00:00,  2.05s/it]\n"
     ]
    }
   ],
   "source": [
    "# Use GPU if available\n",
    "device = torch.device(\"cuda\" if torch.cuda.is_available() else \"cpu\")\n",
    "model.to(device)\n",
    "\n",
    "# Enable mixed precision\n",
    "scaler = torch.cuda.amp.GradScaler()\n",
    "\n",
    "# Generate summaries for the test set with tqdm progress bar\n",
    "generated_summaries = []\n",
    "reference_summaries = tokenized_datasets[\"test\"][\"headline\"]\n",
    "\n",
    "# Define batch size\n",
    "batch_size = 32  # Adjust the batch size based on your GPU memory\n",
    "\n",
    "# Process in batches with mixed precision\n",
    "for i in tqdm(range(0, len(tokenized_datasets[\"test\"]), batch_size), desc=\"Generating summaries\"):\n",
    "    batch_texts = tokenized_datasets[\"test\"][\"text\"][i:i+batch_size]\n",
    "    batch_inputs = tokenizer([prefix + text for text in batch_texts], return_tensors=\"pt\", max_length=max_input_length, truncation=True, padding=True).to(device)\n",
    "    \n",
    "    with torch.cuda.amp.autocast():  # Enable mixed precision\n",
    "        summary_ids = model.generate(batch_inputs[\"input_ids\"], max_length=max_target_length, min_length=40, length_penalty=2.0, num_beams=4, early_stopping=True)\n",
    "    \n",
    "    batch_summaries = [tokenizer.decode(g, skip_special_tokens=True, clean_up_tokenization_spaces=False) for g in summary_ids]\n",
    "    generated_summaries.extend(batch_summaries)"
   ]
  },
  {
   "cell_type": "code",
   "execution_count": 9,
   "metadata": {},
   "outputs": [
    {
     "name": "stdout",
     "output_type": "stream",
     "text": [
      "Average ROUGE-1 Score: 0.1249\n",
      "Average ROUGE-2 Score: 0.0373\n",
      "Average ROUGE-L Score: 0.1063\n"
     ]
    }
   ],
   "source": [
    "# Save summaries to a CSV file\n",
    "import pandas as pd\n",
    "input_texts = tokenized_datasets[\"test\"][\"text\"]\n",
    "summary_data = pd.DataFrame({\n",
    "    \"input_text\": input_texts,\n",
    "    \"reference_summary\": reference_summaries,\n",
    "    \"generated_summary\": generated_summaries\n",
    "})\n",
    "summary_data.to_csv(\"generated_summaries.csv\", index=False)\n",
    "\n",
    "\n",
    "#Check if generated summaries are empty\n",
    "if len(generated_summaries) == 0:\n",
    "    print(\"No summaries were generated.\")\n",
    "else:\n",
    "    # Evaluate using ROUGE score\n",
    "    scorer = rouge_scorer.RougeScorer(['rouge1', 'rouge2', 'rougeL'], use_stemmer=True)\n",
    "\n",
    "    rouge1_scores = []\n",
    "    rouge2_scores = []\n",
    "    rougeL_scores = []\n",
    "\n",
    "    for ref_summary, gen_summary in zip(reference_summaries, generated_summaries):\n",
    "        # Ensure both summaries are non-empty\n",
    "        if ref_summary.strip() and gen_summary.strip():\n",
    "            scores = scorer.score(ref_summary, gen_summary)\n",
    "            rouge1_scores.append(scores['rouge1'].fmeasure)\n",
    "            rouge2_scores.append(scores['rouge2'].fmeasure)\n",
    "            rougeL_scores.append(scores['rougeL'].fmeasure)\n",
    "        else:\n",
    "            print(f\"Empty summary detected: ref='{ref_summary}', gen='{gen_summary}'\")\n",
    "\n",
    "    # Calculate average ROUGE scores\n",
    "    if rouge1_scores and rouge2_scores and rougeL_scores:\n",
    "        avg_rouge1 = np.mean(rouge1_scores)\n",
    "        avg_rouge2 = np.mean(rouge2_scores)\n",
    "        avg_rougeL = np.mean(rougeL_scores)\n",
    "        print(f'Average ROUGE-1 Score: {avg_rouge1:.4f}')\n",
    "        print(f'Average ROUGE-2 Score: {avg_rouge2:.4f}')\n",
    "        print(f'Average ROUGE-L Score: {avg_rougeL:.4f}')\n",
    "    else:\n",
    "        print(\"No valid scores to calculate averages.\")"
   ]
  }
 ],
 "metadata": {
  "kernelspec": {
   "display_name": "Python 3",
   "language": "python",
   "name": "python3"
  },
  "language_info": {
   "codemirror_mode": {
    "name": "ipython",
    "version": 3
   },
   "file_extension": ".py",
   "mimetype": "text/x-python",
   "name": "python",
   "nbconvert_exporter": "python",
   "pygments_lexer": "ipython3",
   "version": "3.10.14"
  }
 },
 "nbformat": 4,
 "nbformat_minor": 2
}
