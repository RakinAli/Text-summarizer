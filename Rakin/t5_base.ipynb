{
 "cells": [
  {
   "cell_type": "markdown",
   "metadata": {},
   "source": [
    "# Text summarizer\n",
    "Here I try around with t5-base"
   ]
  },
  {
   "cell_type": "code",
   "execution_count": 19,
   "metadata": {},
   "outputs": [],
   "source": [
    "import torch\n",
    "from transformers import AutoTokenizer, AutoModelForSeq2SeqLM\n",
    "from datasets import load_dataset, DatasetDict\n",
    "!pip install -q rouge_score\n",
    "!pip install -q tqdm\n",
    "from rouge_score import rouge_scorer\n",
    "import numpy as np\n",
    "from tqdm import tqdm\n"
   ]
  },
  {
   "cell_type": "markdown",
   "metadata": {},
   "source": [
    "### Global variables"
   ]
  },
  {
   "cell_type": "code",
   "execution_count": 12,
   "metadata": {},
   "outputs": [],
   "source": [
    "# Load the dataset\n",
    "train, test = load_dataset(\n",
    "    \"wikihow\",\n",
    "    \"sep\",\n",
    "    data_dir=\"../Dataset/\",\n",
    "    split=[\"train\", \"test\"],\n",
    "    trust_remote_code=True,\n",
    ")\n",
    "dataset = DatasetDict({\"train\": train, \"test\": test})\n",
    "dataset = dataset.select_columns([\"text\", \"headline\"])"
   ]
  },
  {
   "cell_type": "code",
   "execution_count": 14,
   "metadata": {},
   "outputs": [],
   "source": [
    "# Define model and tokenizer\n",
    "model_name = \"facebook/bart-large-cnn\"\n",
    "tokenizer = AutoTokenizer.from_pretrained(model_name)\n",
    "model = AutoModelForSeq2SeqLM.from_pretrained(model_name)\n",
    "\n",
    "# Preprocessing function\n",
    "prefix = \"summarize: \"\n",
    "max_input_length = 512\n",
    "max_target_length = 64"
   ]
  },
  {
   "cell_type": "markdown",
   "metadata": {},
   "source": [
    "### Preprocessing\n"
   ]
  },
  {
   "cell_type": "code",
   "execution_count": 20,
   "metadata": {},
   "outputs": [
    {
     "name": "stderr",
     "output_type": "stream",
     "text": [
      "Map:   0%|          | 0/1060732 [00:00<?, ? examples/s]"
     ]
    },
    {
     "name": "stderr",
     "output_type": "stream",
     "text": [
      "Map: 100%|██████████| 1060732/1060732 [01:08<00:00, 15550.42 examples/s]\n"
     ]
    }
   ],
   "source": [
    "def preprocess_function(dataset):\n",
    "    inputs = [prefix + text for text in dataset[\"text\"]]\n",
    "    model_inputs = tokenizer(inputs, max_length=max_input_length, truncation=True)\n",
    "    targets = dataset[\"headline\"]\n",
    "    labels = tokenizer(text_target=targets, max_length=max_target_length, truncation=True)\n",
    "    model_inputs[\"labels\"] = labels[\"input_ids\"]\n",
    "    return model_inputs\n",
    "\n",
    "# Apply preprocessing\n",
    "tokenized_datasets = dataset.map(preprocess_function, batched=True)\n",
    "\n",
    "# Split the data\n",
    "train_test_split = tokenized_datasets[\"train\"].train_test_split(test_size=0.1)\n",
    "tokenized_datasets[\"train\"] = train_test_split[\"train\"]\n",
    "tokenized_datasets[\"validation\"] = train_test_split[\"test\"]\n",
    "\n"
   ]
  },
  {
   "cell_type": "markdown",
   "metadata": {},
   "source": [
    "## Evaluation"
   ]
  },
  {
   "cell_type": "code",
   "execution_count": 24,
   "metadata": {},
   "outputs": [
    {
     "name": "stderr",
     "output_type": "stream",
     "text": [
      "Generating summaries:   0%|          | 0/2363 [00:00<?, ?it/s]"
     ]
    },
    {
     "name": "stderr",
     "output_type": "stream",
     "text": [
      "Generating summaries: 100%|██████████| 2363/2363 [46:11<00:00,  1.17s/it]\n"
     ]
    }
   ],
   "source": [
    "\n",
    "# Use GPU if available\n",
    "device = torch.device(\"cuda\" if torch.cuda.is_available() else \"cpu\")\n",
    "model.to(device)\n",
    "\n",
    "# Enable mixed precision\n",
    "scaler = torch.cuda.amp.GradScaler()\n",
    "\n",
    "# Generate summaries for the test set with tqdm progress bar\n",
    "generated_summaries = []\n",
    "reference_summaries = tokenized_datasets[\"test\"][\"headline\"]\n",
    "\n",
    "# Define batch size\n",
    "batch_size = 16  # Adjust the batch size based on your GPU memory\n",
    "\n",
    "# Process in batches\n",
    "for i in tqdm(range(0, len(tokenized_datasets[\"test\"]), batch_size), desc=\"Generating summaries\"):\n",
    "    batch_texts = tokenized_datasets[\"test\"][\"text\"][i:i+batch_size]\n",
    "    batch_inputs = tokenizer([prefix + text for text in batch_texts], return_tensors=\"pt\", max_length=max_input_length, truncation=True, padding=True).to(device)\n",
    "    \n",
    "    with torch.cuda.amp.autocast():  # Enable mixed precision\n",
    "        summary_ids = model.generate(batch_inputs[\"input_ids\"], max_length=max_target_length, min_length=40, length_penalty=2.0, num_beams=4, early_stopping=True)\n",
    "    \n",
    "    batch_summaries = [tokenizer.decode(g, skip_special_tokens=True, clean_up_tokenization_spaces=False) for g in summary_ids]\n",
    "    generated_summaries.extend(batch_summaries)\n"
   ]
  },
  {
   "cell_type": "code",
   "execution_count": 25,
   "metadata": {},
   "outputs": [
    {
     "name": "stdout",
     "output_type": "stream",
     "text": [
      "Average ROUGE-1 Score: 0.1355\n",
      "Average ROUGE-2 Score: 0.0416\n",
      "Average ROUGE-L Score: 0.1130\n"
     ]
    }
   ],
   "source": [
    "# Evaluate using ROUGE score\n",
    "scorer = rouge_scorer.RougeScorer(['rouge1', 'rouge2', 'rougeL'], use_stemmer=True)\n",
    "\n",
    "rouge1_scores = []\n",
    "rouge2_scores = []\n",
    "rougeL_scores = []\n",
    "\n",
    "for ref_summary, gen_summary in zip(reference_summaries, generated_summaries):\n",
    "    scores = scorer.score(ref_summary, gen_summary)\n",
    "    rouge1_scores.append(scores['rouge1'].fmeasure)\n",
    "    rouge2_scores.append(scores['rouge2'].fmeasure)\n",
    "    rougeL_scores.append(scores['rougeL'].fmeasure)\n",
    "\n",
    "# Calculate average ROUGE scores\n",
    "avg_rouge1 = np.mean(rouge1_scores)\n",
    "avg_rouge2 = np.mean(rouge2_scores)\n",
    "avg_rougeL = np.mean(rougeL_scores)\n",
    "\n",
    "print(f'Average ROUGE-1 Score: {avg_rouge1:.4f}')\n",
    "print(f'Average ROUGE-2 Score: {avg_rouge2:.4f}')\n",
    "print(f'Average ROUGE-L Score: {avg_rougeL:.4f}')"
   ]
  },
  {
   "cell_type": "code",
   "execution_count": 26,
   "metadata": {},
   "outputs": [
    {
     "data": {
      "text/html": [
       "\n",
       "    <div>\n",
       "      \n",
       "      <progress value='9' max='2363' style='width:300px; height:20px; vertical-align: middle;'></progress>\n",
       "      [   9/2363 00:21 < 1:47:47, 0.36 it/s]\n",
       "    </div>\n",
       "    "
      ],
      "text/plain": [
       "<IPython.core.display.HTML object>"
      ]
     },
     "metadata": {},
     "output_type": "display_data"
    }
   ],
   "source": [
    "# Define the compute_metrics function to calculate ROUGE scores\n",
    "def compute_metrics(eval_pred):\n",
    "    predictions, labels = eval_pred\n",
    "    decoded_preds = tokenizer.batch_decode(predictions, skip_special_tokens=True)\n",
    "    decoded_labels = tokenizer.batch_decode(labels, skip_special_tokens=True)\n",
    "\n",
    "    # Replace -100 in the labels as we can't decode them\n",
    "    decoded_labels = [\n",
    "        [token if token != -100 else tokenizer.pad_token_id for token in label]\n",
    "        for label in decoded_labels\n",
    "    ]\n",
    "\n",
    "    result = rouge_scorer.RougeScorer(['rouge1', 'rouge2', 'rougeL'], use_stemmer=True).score(decoded_preds, decoded_labels)\n",
    "    result = {key: value.fmeasure for key, value in result.items()}\n",
    "    return result\n",
    "\n",
    "# Set up the training arguments\n",
    "training_args = Seq2SeqTrainingArguments(\n",
    "    output_dir=\"baseEval\",\n",
    "    per_device_eval_batch_size=16,\n",
    "    predict_with_generate=True,\n",
    "    bf16=torch.cuda.is_available(),  # Enable bf16 if available\n",
    ")\n",
    "\n",
    "# Create the DataCollator for padding\n",
    "data_collator = DataCollatorForSeq2Seq(tokenizer, model=model)\n",
    "\n",
    "# Initialize the Seq2SeqTrainer\n",
    "trainer = Seq2SeqTrainer(\n",
    "    model=model,\n",
    "    args=training_args,\n",
    "    eval_dataset=tokenized_datasets[\"test\"],\n",
    "    tokenizer=tokenizer,\n",
    "    data_collator=data_collator,\n",
    "    compute_metrics=compute_metrics,\n",
    ")\n",
    "\n",
    "# Evaluate the model\n",
    "results = trainer.evaluate()\n",
    "print(results)"
   ]
  }
 ],
 "metadata": {
  "kernelspec": {
   "display_name": "Python 3",
   "language": "python",
   "name": "python3"
  },
  "language_info": {
   "codemirror_mode": {
    "name": "ipython",
    "version": 3
   },
   "file_extension": ".py",
   "mimetype": "text/x-python",
   "name": "python",
   "nbconvert_exporter": "python",
   "pygments_lexer": "ipython3",
   "version": "3.10.14"
  }
 },
 "nbformat": 4,
 "nbformat_minor": 2
}
