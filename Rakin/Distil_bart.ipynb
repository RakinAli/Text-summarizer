{
 "cells": [
  {
   "cell_type": "markdown",
   "metadata": {},
   "source": [
    "# Text summarizer\n",
    "Here I am trying DistilBART model \"DistilBART\" . DistilBART is a distilled version of BART, which is smaller and faster while retaining good performance for summarization task\n"
   ]
  },
  {
   "cell_type": "markdown",
   "metadata": {},
   "source": [
    "### Imports"
   ]
  },
  {
   "cell_type": "code",
   "execution_count": 2,
   "metadata": {},
   "outputs": [],
   "source": [
    "import torch\n",
    "from transformers import BartTokenizer, BartForConditionalGeneration, Seq2SeqTrainer, Seq2SeqTrainingArguments, DataCollatorForSeq2Seq\n",
    "from datasets import load_dataset, DatasetDict\n",
    "from rouge_score import rouge_scorer\n",
    "import numpy as np\n",
    "from tqdm import tqdm"
   ]
  },
  {
   "cell_type": "markdown",
   "metadata": {},
   "source": [
    "### Global variables "
   ]
  },
  {
   "cell_type": "code",
   "execution_count": null,
   "metadata": {},
   "outputs": [],
   "source": [
    "# Load the dataset\n",
    "train, test = load_dataset(\n",
    "    \"wikihow\",\n",
    "    \"sep\",\n",
    "    data_dir=\"../Dataset/\",\n",
    "    split=[\"train\", \"test\"],\n",
    "    trust_remote_code=True,\n",
    ")\n",
    "dataset = DatasetDict({\"train\": train, \"test\": test})\n",
    "dataset = dataset.select_columns([\"text\", \"headline\"])"
   ]
  },
  {
   "cell_type": "code",
   "execution_count": 3,
   "metadata": {},
   "outputs": [],
   "source": [
    "# Define model and tokenizer\n",
    "model_name = \"sshleifer/distilbart-cnn-12-6\"\n",
    "tokenizer = BartTokenizer.from_pretrained(model_name)\n",
    "model = BartForConditionalGeneration.from_pretrained(model_name)\n",
    "\n",
    "# Preprocessing function\n",
    "prefix = \"summarize: \"\n",
    "max_input_length = 512\n",
    "max_target_length = 64"
   ]
  },
  {
   "cell_type": "markdown",
   "metadata": {},
   "source": [
    "### Preprocessing"
   ]
  },
  {
   "cell_type": "code",
   "execution_count": null,
   "metadata": {},
   "outputs": [],
   "source": [
    "# Pre processing\n",
    "def preprocess_function(dataset):\n",
    "    inputs = [prefix + text for text in dataset[\"text\"]]\n",
    "    model_inputs = tokenizer(inputs, max_length=max_input_length, truncation=True, padding=\"max_length\", return_tensors=\"pt\")\n",
    "    targets = dataset[\"headline\"]\n",
    "    labels = tokenizer(text_target=targets, max_length=max_target_length, truncation=True, padding=\"max_length\", return_tensors=\"pt\")\n",
    "    model_inputs[\"labels\"] = labels[\"input_ids\"]\n",
    "    return model_inputs\n",
    "\n",
    "\n",
    "# Apply preprocessing\n",
    "tokenized_datasets = dataset.map(preprocess_function, batched=True, remove_columns=dataset[\"train\"].column_names)\n",
    "\n",
    "# Split the data\n",
    "train_test_split = tokenized_datasets[\"train\"].train_test_split(test_size=0.1)\n",
    "tokenized_datasets[\"train\"] = train_test_split[\"train\"]\n",
    "tokenized_datasets[\"validation\"] = train_test_split[\"test\"]\n"
   ]
  },
  {
   "cell_type": "markdown",
   "metadata": {},
   "source": [
    "### Evaluation"
   ]
  },
  {
   "cell_type": "code",
   "execution_count": null,
   "metadata": {},
   "outputs": [],
   "source": [
    "# Use GPU if available\n",
    "device = torch.device(\"cuda\" if torch.cuda.is_available() else \"cpu\")\n",
    "model.to(device)\n",
    "\n",
    "# Enable mixed precision\n",
    "scaler = torch.cuda.amp.GradScaler()\n",
    "\n",
    "# Generate summaries for the test set with tqdm progress bar\n",
    "generated_summaries = []\n",
    "reference_summaries = tokenized_datasets[\"test\"][\"headline\"]\n",
    "\n",
    "# Define batch size\n",
    "batch_size = 16  # Adjust the batch size based on your GPU memory\n",
    "\n",
    "# Process in batches with mixed precision\n",
    "for i in tqdm(range(0, len(tokenized_datasets[\"test\"]), batch_size), desc=\"Generating summaries\"):\n",
    "    batch_texts = tokenized_datasets[\"test\"][\"text\"][i:i+batch_size]\n",
    "    batch_inputs = tokenizer([prefix + text for text in batch_texts], return_tensors=\"pt\", max_length=max_input_length, truncation=True, padding=True).to(device)\n",
    "    \n",
    "    with torch.cuda.amp.autocast():  # Enable mixed precision\n",
    "        summary_ids = model.generate(batch_inputs[\"input_ids\"], max_length=max_target_length, min_length=40, length_penalty=2.0, num_beams=4, early_stopping=True)\n",
    "    \n",
    "    batch_summaries = [tokenizer.decode(g, skip_special_tokens=True, clean_up_tokenization_spaces=False) for g in summary_ids]\n",
    "    generated_summaries.extend(batch_summaries)"
   ]
  },
  {
   "cell_type": "code",
   "execution_count": null,
   "metadata": {},
   "outputs": [],
   "source": [
    "# Check if generated summaries are empty\n",
    "if len(generated_summaries) == 0:\n",
    "    print(\"No summaries were generated.\")\n",
    "else:\n",
    "    # Evaluate using ROUGE score\n",
    "    scorer = rouge_scorer.RougeScorer(['rouge1', 'rouge2', 'rougeL'], use_stemmer=True)\n",
    "\n",
    "    rouge1_scores = []\n",
    "    rouge2_scores = []\n",
    "    rougeL_scores = []\n",
    "\n",
    "    for ref_summary, gen_summary in zip(reference_summaries, generated_summaries):\n",
    "        # Ensure both summaries are non-empty\n",
    "        if ref_summary.strip() and gen_summary.strip():\n",
    "            scores = scorer.score(ref_summary, gen_summary)\n",
    "            rouge1_scores.append(scores['rouge1'].fmeasure)\n",
    "            rouge2_scores.append(scores['rouge2'].fmeasure)\n",
    "            rougeL_scores.append(scores['rougeL'].fmeasure)\n",
    "        else:\n",
    "            print(f\"Empty summary detected: ref='{ref_summary}', gen='{gen_summary}'\")\n",
    "\n",
    "    # Calculate average ROUGE scores\n",
    "    if rouge1_scores and rouge2_scores and rougeL_scores:\n",
    "        avg_rouge1 = np.mean(rouge1_scores)\n",
    "        avg_rouge2 = np.mean(rouge2_scores)\n",
    "        avg_rougeL = np.mean(rougeL_scores)\n",
    "        print(f'Average ROUGE-1 Score: {avg_rouge1:.4f}')\n",
    "        print(f'Average ROUGE-2 Score: {avg_rouge2:.4f}')\n",
    "        print(f'Average ROUGE-L Score: {avg_rougeL:.4f}')\n",
    "    else:\n",
    "        print(\"No valid scores to calculate averages.\")"
   ]
  }
 ],
 "metadata": {
  "kernelspec": {
   "display_name": "Python 3",
   "language": "python",
   "name": "python3"
  },
  "language_info": {
   "codemirror_mode": {
    "name": "ipython",
    "version": 3
   },
   "file_extension": ".py",
   "mimetype": "text/x-python",
   "name": "python",
   "nbconvert_exporter": "python",
   "pygments_lexer": "ipython3",
   "version": "3.10.14"
  }
 },
 "nbformat": 4,
 "nbformat_minor": 2
}
