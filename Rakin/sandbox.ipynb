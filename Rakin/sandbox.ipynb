{
 "cells": [
  {
   "cell_type": "markdown",
   "metadata": {},
   "source": [
    "# Text summarization\n",
    "Following some tutorial for LLama using pre-trained model for text summarization. Let's see how it works.\n",
    "- https://www.kaggle.com/code/mohamedchahed/text-summarization-using-llama-2/notebook\n",
    "- https://medium.com/@tushitdavergtu/llama2-and-text-summarization-e3eafb51fe28"
   ]
  },
  {
   "cell_type": "markdown",
   "metadata": {},
   "source": [
    "## Following the kaggle notebook\n",
    "https://www.kaggle.com/code/mohamedchahedtext-summarization-using-llama-2/notebook\n",
    "\n"
   ]
  },
  {
   "cell_type": "code",
   "execution_count": null,
   "metadata": {},
   "outputs": [],
   "source": [
    "from langchain.llms import HuggingFacePipeline"
   ]
  }
 ],
 "metadata": {
  "language_info": {
   "name": "python"
  }
 },
 "nbformat": 4,
 "nbformat_minor": 2
}
